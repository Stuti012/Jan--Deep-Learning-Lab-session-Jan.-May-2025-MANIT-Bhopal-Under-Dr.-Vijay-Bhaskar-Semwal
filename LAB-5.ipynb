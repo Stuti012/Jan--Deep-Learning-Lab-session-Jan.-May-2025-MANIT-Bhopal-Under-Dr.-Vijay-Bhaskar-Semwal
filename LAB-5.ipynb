{
 "cells": [
  {
   "cell_type": "code",
   "execution_count": 17,
   "id": "fda436ba",
   "metadata": {},
   "outputs": [],
   "source": [
    "import pandas as pd\n",
    "import pretty_midi\n",
    "import numpy as np\n",
    "import os\n",
    "from sklearn.model_selection import train_test_split\n",
    "\n",
    "# Load CSV containing MIDI file paths\n",
    "csv_file = \"maestro-v3.0.0/maestro-v3.0.0.csv\"  # Change this to your actual file\n",
    "df = pd.read_csv(csv_file)\n",
    "\n",
    "# Define the base path for MIDI files\n",
    "midi_base_path = \"maestro-v3.0.0/\"  # Change this to your dataset location\n",
    "\n",
    "# Extract file paths\n",
    "midi_files = df[\"midi_filename\"].apply(lambda x: os.path.join(midi_base_path, x))"
   ]
  },
  {
   "cell_type": "code",
   "execution_count": 22,
   "id": "2c42527b",
   "metadata": {},
   "outputs": [
    {
     "name": "stdout",
     "output_type": "stream",
     "text": [
      "Piano roll shape: (128, 70398)\n"
     ]
    }
   ],
   "source": [
    "def midi_to_piano_roll(midi_path, fs=100):\n",
    "    try:\n",
    "        midi = pretty_midi.PrettyMIDI(midi_path)\n",
    "        piano_roll = midi.get_piano_roll(fs)  # fs = frame rate per second\n",
    "        return piano_roll\n",
    "    except Exception as e:\n",
    "        print(f\"Error processing {midi_path}: {e}\")\n",
    "        return None\n",
    "\n",
    "# Process a sample MIDI file\n",
    "sample_piano_roll = midi_to_piano_roll(midi_files.iloc[0])\n",
    "print(\"Piano roll shape:\", sample_piano_roll.shape)  # (128, time_steps)"
   ]
  },
  {
   "cell_type": "code",
   "execution_count": 25,
   "id": "10a58a56",
   "metadata": {},
   "outputs": [
    {
     "ename": "MemoryError",
     "evalue": "Unable to allocate 6.70 GiB for an array with shape (70298, 128, 100) and data type float64",
     "output_type": "error",
     "traceback": [
      "\u001b[1;31m---------------------------------------------------------------------------\u001b[0m",
      "\u001b[1;31mMemoryError\u001b[0m                               Traceback (most recent call last)",
      "Cell \u001b[1;32mIn[25], line 16\u001b[0m\n\u001b[0;32m     14\u001b[0m piano_roll \u001b[38;5;241m=\u001b[39m midi_to_piano_roll(midi_file)\n\u001b[0;32m     15\u001b[0m \u001b[38;5;28;01mif\u001b[39;00m piano_roll \u001b[38;5;129;01mis\u001b[39;00m \u001b[38;5;129;01mnot\u001b[39;00m \u001b[38;5;28;01mNone\u001b[39;00m:\n\u001b[1;32m---> 16\u001b[0m     X, y \u001b[38;5;241m=\u001b[39m \u001b[43mcreate_sequences\u001b[49m\u001b[43m(\u001b[49m\u001b[43mpiano_roll\u001b[49m\u001b[43m,\u001b[49m\u001b[43m \u001b[49m\u001b[43msequence_length\u001b[49m\u001b[43m)\u001b[49m\n\u001b[0;32m     17\u001b[0m     X_all\u001b[38;5;241m.\u001b[39mappend(X)\n\u001b[0;32m     18\u001b[0m     y_all\u001b[38;5;241m.\u001b[39mappend(y)\n",
      "Cell \u001b[1;32mIn[25], line 8\u001b[0m, in \u001b[0;36mcreate_sequences\u001b[1;34m(piano_roll, sequence_length)\u001b[0m\n\u001b[0;32m      6\u001b[0m     X\u001b[38;5;241m.\u001b[39mappend(piano_roll[:, i:i \u001b[38;5;241m+\u001b[39m sequence_length])\n\u001b[0;32m      7\u001b[0m     y\u001b[38;5;241m.\u001b[39mappend(piano_roll[:, i \u001b[38;5;241m+\u001b[39m sequence_length])  \u001b[38;5;66;03m# Next timestep as label\u001b[39;00m\n\u001b[1;32m----> 8\u001b[0m \u001b[38;5;28;01mreturn\u001b[39;00m \u001b[43mnp\u001b[49m\u001b[38;5;241;43m.\u001b[39;49m\u001b[43marray\u001b[49m\u001b[43m(\u001b[49m\u001b[43mX\u001b[49m\u001b[43m)\u001b[49m, np\u001b[38;5;241m.\u001b[39marray(y)\n",
      "\u001b[1;31mMemoryError\u001b[0m: Unable to allocate 6.70 GiB for an array with shape (70298, 128, 100) and data type float64"
     ]
    }
   ],
   "source": [
    "sequence_length = 100  # Number of time steps per training sequence\n",
    "\n",
    "def create_sequences(piano_roll, sequence_length):\n",
    "    X, y = [], []\n",
    "    for i in range(piano_roll.shape[1] - sequence_length):\n",
    "        X.append(piano_roll[:, i:i + sequence_length])\n",
    "        y.append(piano_roll[:, i + sequence_length])  # Next timestep as label\n",
    "    return np.array(X), np.array(y)\n",
    "\n",
    "# Create training sequences from all MIDI files\n",
    "X_all, y_all = [], []\n",
    "\n",
    "for midi_file in midi_files[:100]:  # Use a subset for testing\n",
    "    piano_roll = midi_to_piano_roll(midi_file)\n",
    "    if piano_roll is not None:\n",
    "        X, y = create_sequences(piano_roll, sequence_length)\n",
    "        X_all.append(X)\n",
    "        y_all.append(y)\n",
    "\n",
    "# Convert lists to numpy arrays\n",
    "X_all = np.concatenate(X_all, axis=0)\n",
    "y_all = np.concatenate(y_all, axis=0)\n",
    "\n",
    "# Transpose to (num_samples, time_steps, features)\n",
    "X_all = np.transpose(X_all, (0, 2, 1))  # Shape: (num_samples, 100, 128)\n",
    "\n",
    "print(\"Final shape of X:\", X_all.shape)"
   ]
  },
  {
   "cell_type": "code",
   "execution_count": 8,
   "id": "5962841e",
   "metadata": {},
   "outputs": [],
   "source": [
    "from sklearn.preprocessing import MinMaxScaler\n",
    "\n",
    "scaler = MinMaxScaler()\n",
    "normalized_piano_roll = scaler.fit_transform(piano_roll.T).T  # Normalize across time steps\n"
   ]
  },
  {
   "cell_type": "code",
   "execution_count": 9,
   "id": "5c261c8e",
   "metadata": {},
   "outputs": [
    {
     "name": "stdout",
     "output_type": "stream",
     "text": [
      "Model: \"sequential\"\n",
      "_________________________________________________________________\n",
      " Layer (type)                Output Shape              Param #   \n",
      "=================================================================\n",
      " lstm (LSTM)                 (None, None, 256)         394240    \n",
      "                                                                 \n",
      " lstm_1 (LSTM)               (None, None, 256)         525312    \n",
      "                                                                 \n",
      " dense (Dense)               (None, None, 128)         32896     \n",
      "                                                                 \n",
      "=================================================================\n",
      "Total params: 952,448\n",
      "Trainable params: 952,448\n",
      "Non-trainable params: 0\n",
      "_________________________________________________________________\n"
     ]
    }
   ],
   "source": [
    "import tensorflow as tf\n",
    "from tensorflow.keras.models import Sequential\n",
    "from tensorflow.keras.layers import LSTM, Dense\n",
    "\n",
    "model = Sequential([\n",
    "    LSTM(256, return_sequences=True, input_shape=(None, 128)),\n",
    "    LSTM(256, return_sequences=True),\n",
    "    Dense(128, activation='softmax')  # Predicting 128 piano roll values\n",
    "])\n",
    "\n",
    "model.compile(optimizer='adam', loss='categorical_crossentropy', metrics=['accuracy'])\n",
    "model.summary()"
   ]
  },
  {
   "cell_type": "code",
   "execution_count": 11,
   "id": "3864553e",
   "metadata": {},
   "outputs": [
    {
     "name": "stdout",
     "output_type": "stream",
     "text": [
      "Training shape: (70298, 128, 100) (70298, 128)\n"
     ]
    }
   ],
   "source": [
    "import numpy as np\n",
    "\n",
    "# Define sequence length (e.g., 100 time steps)\n",
    "sequence_length = 100\n",
    "\n",
    "def create_sequences(piano_roll, sequence_length=100):\n",
    "    X, y = [], []\n",
    "    for i in range(piano_roll.shape[1] - sequence_length):\n",
    "        X.append(piano_roll[:, i:i + sequence_length])\n",
    "        y.append(piano_roll[:, i + sequence_length])  # Next timestep as label\n",
    "    return np.array(X), np.array(y)\n",
    "\n",
    "# Example: Extract sequences from a sample piano roll\n",
    "X_train, y_train = create_sequences(piano_roll, sequence_length)\n",
    "print(\"Training shape:\", X_train.shape, y_train.shape)  # Expected: (num_samples, 128, sequence_length)"
   ]
  },
  {
   "cell_type": "code",
   "execution_count": 13,
   "id": "2abbe76b",
   "metadata": {},
   "outputs": [],
   "source": [
    "X_train = np.transpose(X_train, (0, 2, 1))  # Swap time_steps and features\n",
    "y_train = np.transpose(y_train, (0, 1))  # Make sure labels match new shape"
   ]
  },
  {
   "cell_type": "code",
   "execution_count": 14,
   "id": "79fee64a",
   "metadata": {},
   "outputs": [
    {
     "name": "stdout",
     "output_type": "stream",
     "text": [
      "Epoch 1/50\n"
     ]
    },
    {
     "ename": "ValueError",
     "evalue": "in user code:\n\n    File \"C:\\Users\\HP\\anaconda3\\lib\\site-packages\\keras\\engine\\training.py\", line 1160, in train_function  *\n        return step_function(self, iterator)\n    File \"C:\\Users\\HP\\anaconda3\\lib\\site-packages\\keras\\engine\\training.py\", line 1146, in step_function  **\n        outputs = model.distribute_strategy.run(run_step, args=(data,))\n    File \"C:\\Users\\HP\\anaconda3\\lib\\site-packages\\keras\\engine\\training.py\", line 1135, in run_step  **\n        outputs = model.train_step(data)\n    File \"C:\\Users\\HP\\anaconda3\\lib\\site-packages\\keras\\engine\\training.py\", line 994, in train_step\n        loss = self.compute_loss(x, y, y_pred, sample_weight)\n    File \"C:\\Users\\HP\\anaconda3\\lib\\site-packages\\keras\\engine\\training.py\", line 1052, in compute_loss\n        return self.compiled_loss(\n    File \"C:\\Users\\HP\\anaconda3\\lib\\site-packages\\keras\\engine\\compile_utils.py\", line 265, in __call__\n        loss_value = loss_obj(y_t, y_p, sample_weight=sw)\n    File \"C:\\Users\\HP\\anaconda3\\lib\\site-packages\\keras\\losses.py\", line 152, in __call__\n        losses = call_fn(y_true, y_pred)\n    File \"C:\\Users\\HP\\anaconda3\\lib\\site-packages\\keras\\losses.py\", line 272, in call  **\n        return ag_fn(y_true, y_pred, **self._fn_kwargs)\n    File \"C:\\Users\\HP\\anaconda3\\lib\\site-packages\\keras\\losses.py\", line 1990, in categorical_crossentropy\n        return backend.categorical_crossentropy(\n    File \"C:\\Users\\HP\\anaconda3\\lib\\site-packages\\keras\\backend.py\", line 5529, in categorical_crossentropy\n        target.shape.assert_is_compatible_with(output.shape)\n\n    ValueError: Shapes (None, 128) and (None, 100, 128) are incompatible\n",
     "output_type": "error",
     "traceback": [
      "\u001b[1;31m---------------------------------------------------------------------------\u001b[0m",
      "\u001b[1;31mValueError\u001b[0m                                Traceback (most recent call last)",
      "Cell \u001b[1;32mIn[14], line 1\u001b[0m\n\u001b[1;32m----> 1\u001b[0m history \u001b[38;5;241m=\u001b[39m \u001b[43mmodel\u001b[49m\u001b[38;5;241;43m.\u001b[39;49m\u001b[43mfit\u001b[49m\u001b[43m(\u001b[49m\u001b[43mX_train\u001b[49m\u001b[43m,\u001b[49m\u001b[43m \u001b[49m\u001b[43my_train\u001b[49m\u001b[43m,\u001b[49m\u001b[43m \u001b[49m\u001b[43mvalidation_split\u001b[49m\u001b[38;5;241;43m=\u001b[39;49m\u001b[38;5;241;43m0.2\u001b[39;49m\u001b[43m,\u001b[49m\u001b[43m \u001b[49m\u001b[43mepochs\u001b[49m\u001b[38;5;241;43m=\u001b[39;49m\u001b[38;5;241;43m50\u001b[39;49m\u001b[43m,\u001b[49m\u001b[43m \u001b[49m\u001b[43mbatch_size\u001b[49m\u001b[38;5;241;43m=\u001b[39;49m\u001b[38;5;241;43m32\u001b[39;49m\u001b[43m)\u001b[49m\n",
      "File \u001b[1;32m~\\anaconda3\\lib\\site-packages\\keras\\utils\\traceback_utils.py:70\u001b[0m, in \u001b[0;36mfilter_traceback.<locals>.error_handler\u001b[1;34m(*args, **kwargs)\u001b[0m\n\u001b[0;32m     67\u001b[0m     filtered_tb \u001b[38;5;241m=\u001b[39m _process_traceback_frames(e\u001b[38;5;241m.\u001b[39m__traceback__)\n\u001b[0;32m     68\u001b[0m     \u001b[38;5;66;03m# To get the full stack trace, call:\u001b[39;00m\n\u001b[0;32m     69\u001b[0m     \u001b[38;5;66;03m# `tf.debugging.disable_traceback_filtering()`\u001b[39;00m\n\u001b[1;32m---> 70\u001b[0m     \u001b[38;5;28;01mraise\u001b[39;00m e\u001b[38;5;241m.\u001b[39mwith_traceback(filtered_tb) \u001b[38;5;28;01mfrom\u001b[39;00m \u001b[38;5;28;01mNone\u001b[39;00m\n\u001b[0;32m     71\u001b[0m \u001b[38;5;28;01mfinally\u001b[39;00m:\n\u001b[0;32m     72\u001b[0m     \u001b[38;5;28;01mdel\u001b[39;00m filtered_tb\n",
      "File \u001b[1;32m~\\AppData\\Local\\Temp\\__autograph_generated_filewtgy476o.py:15\u001b[0m, in \u001b[0;36mouter_factory.<locals>.inner_factory.<locals>.tf__train_function\u001b[1;34m(iterator)\u001b[0m\n\u001b[0;32m     13\u001b[0m \u001b[38;5;28;01mtry\u001b[39;00m:\n\u001b[0;32m     14\u001b[0m     do_return \u001b[38;5;241m=\u001b[39m \u001b[38;5;28;01mTrue\u001b[39;00m\n\u001b[1;32m---> 15\u001b[0m     retval_ \u001b[38;5;241m=\u001b[39m ag__\u001b[38;5;241m.\u001b[39mconverted_call(ag__\u001b[38;5;241m.\u001b[39mld(step_function), (ag__\u001b[38;5;241m.\u001b[39mld(\u001b[38;5;28mself\u001b[39m), ag__\u001b[38;5;241m.\u001b[39mld(iterator)), \u001b[38;5;28;01mNone\u001b[39;00m, fscope)\n\u001b[0;32m     16\u001b[0m \u001b[38;5;28;01mexcept\u001b[39;00m:\n\u001b[0;32m     17\u001b[0m     do_return \u001b[38;5;241m=\u001b[39m \u001b[38;5;28;01mFalse\u001b[39;00m\n",
      "\u001b[1;31mValueError\u001b[0m: in user code:\n\n    File \"C:\\Users\\HP\\anaconda3\\lib\\site-packages\\keras\\engine\\training.py\", line 1160, in train_function  *\n        return step_function(self, iterator)\n    File \"C:\\Users\\HP\\anaconda3\\lib\\site-packages\\keras\\engine\\training.py\", line 1146, in step_function  **\n        outputs = model.distribute_strategy.run(run_step, args=(data,))\n    File \"C:\\Users\\HP\\anaconda3\\lib\\site-packages\\keras\\engine\\training.py\", line 1135, in run_step  **\n        outputs = model.train_step(data)\n    File \"C:\\Users\\HP\\anaconda3\\lib\\site-packages\\keras\\engine\\training.py\", line 994, in train_step\n        loss = self.compute_loss(x, y, y_pred, sample_weight)\n    File \"C:\\Users\\HP\\anaconda3\\lib\\site-packages\\keras\\engine\\training.py\", line 1052, in compute_loss\n        return self.compiled_loss(\n    File \"C:\\Users\\HP\\anaconda3\\lib\\site-packages\\keras\\engine\\compile_utils.py\", line 265, in __call__\n        loss_value = loss_obj(y_t, y_p, sample_weight=sw)\n    File \"C:\\Users\\HP\\anaconda3\\lib\\site-packages\\keras\\losses.py\", line 152, in __call__\n        losses = call_fn(y_true, y_pred)\n    File \"C:\\Users\\HP\\anaconda3\\lib\\site-packages\\keras\\losses.py\", line 272, in call  **\n        return ag_fn(y_true, y_pred, **self._fn_kwargs)\n    File \"C:\\Users\\HP\\anaconda3\\lib\\site-packages\\keras\\losses.py\", line 1990, in categorical_crossentropy\n        return backend.categorical_crossentropy(\n    File \"C:\\Users\\HP\\anaconda3\\lib\\site-packages\\keras\\backend.py\", line 5529, in categorical_crossentropy\n        target.shape.assert_is_compatible_with(output.shape)\n\n    ValueError: Shapes (None, 128) and (None, 100, 128) are incompatible\n"
     ]
    }
   ],
   "source": [
    "history = model.fit(X_train, y_train, validation_split=0.2, epochs=50, batch_size=32)"
   ]
  },
  {
   "cell_type": "code",
   "execution_count": 27,
   "id": "314ade23",
   "metadata": {},
   "outputs": [
    {
     "name": "stdout",
     "output_type": "stream",
     "text": [
      "Total MIDI files: 0\n",
      "Total MIDI files: 1276\n"
     ]
    },
    {
     "data": {
      "image/png": "[encoded data removed]",
      "text/plain": [
       "<Figure size 1000x400 with 1 Axes>"
      ]
     },
     "metadata": {},
     "output_type": "display_data"
    },
    {
     "ename": "MemoryError",
     "evalue": "Unable to allocate 49.7 MiB for an array with shape (128, 50865) and data type float64",
     "output_type": "error",
     "traceback": [
      "\u001b[1;31m---------------------------------------------------------------------------\u001b[0m",
      "\u001b[1;31mMemoryError\u001b[0m                               Traceback (most recent call last)",
      "Cell \u001b[1;32mIn[27], line 61\u001b[0m\n\u001b[0;32m     58\u001b[0m     piano_roll \u001b[38;5;241m=\u001b[39m pm\u001b[38;5;241m.\u001b[39mget_piano_roll(fs\u001b[38;5;241m=\u001b[39mfs)\n\u001b[0;32m     59\u001b[0m     \u001b[38;5;28;01mreturn\u001b[39;00m piano_roll\u001b[38;5;241m.\u001b[39mT  \u001b[38;5;66;03m# Transpose for proper time-step format\u001b[39;00m\n\u001b[1;32m---> 61\u001b[0m piano_rolls \u001b[38;5;241m=\u001b[39m [midi_to_piano_roll(f) \u001b[38;5;28;01mfor\u001b[39;00m f \u001b[38;5;129;01min\u001b[39;00m midi_files]\n\u001b[0;32m     63\u001b[0m \u001b[38;5;66;03m# Define maximum sequence length and pad sequences\u001b[39;00m\n\u001b[0;32m     64\u001b[0m max_length \u001b[38;5;241m=\u001b[39m \u001b[38;5;241m1000\u001b[39m\n",
      "Cell \u001b[1;32mIn[27], line 61\u001b[0m, in \u001b[0;36m<listcomp>\u001b[1;34m(.0)\u001b[0m\n\u001b[0;32m     58\u001b[0m     piano_roll \u001b[38;5;241m=\u001b[39m pm\u001b[38;5;241m.\u001b[39mget_piano_roll(fs\u001b[38;5;241m=\u001b[39mfs)\n\u001b[0;32m     59\u001b[0m     \u001b[38;5;28;01mreturn\u001b[39;00m piano_roll\u001b[38;5;241m.\u001b[39mT  \u001b[38;5;66;03m# Transpose for proper time-step format\u001b[39;00m\n\u001b[1;32m---> 61\u001b[0m piano_rolls \u001b[38;5;241m=\u001b[39m [\u001b[43mmidi_to_piano_roll\u001b[49m\u001b[43m(\u001b[49m\u001b[43mf\u001b[49m\u001b[43m)\u001b[49m \u001b[38;5;28;01mfor\u001b[39;00m f \u001b[38;5;129;01min\u001b[39;00m midi_files]\n\u001b[0;32m     63\u001b[0m \u001b[38;5;66;03m# Define maximum sequence length and pad sequences\u001b[39;00m\n\u001b[0;32m     64\u001b[0m max_length \u001b[38;5;241m=\u001b[39m \u001b[38;5;241m1000\u001b[39m\n",
      "Cell \u001b[1;32mIn[27], line 58\u001b[0m, in \u001b[0;36mmidi_to_piano_roll\u001b[1;34m(midi_file, fs)\u001b[0m\n\u001b[0;32m     56\u001b[0m \u001b[38;5;28;01mdef\u001b[39;00m \u001b[38;5;21mmidi_to_piano_roll\u001b[39m(midi_file, fs\u001b[38;5;241m=\u001b[39m\u001b[38;5;241m100\u001b[39m):\n\u001b[0;32m     57\u001b[0m     pm \u001b[38;5;241m=\u001b[39m pretty_midi\u001b[38;5;241m.\u001b[39mPrettyMIDI(midi_file)\n\u001b[1;32m---> 58\u001b[0m     piano_roll \u001b[38;5;241m=\u001b[39m \u001b[43mpm\u001b[49m\u001b[38;5;241;43m.\u001b[39;49m\u001b[43mget_piano_roll\u001b[49m\u001b[43m(\u001b[49m\u001b[43mfs\u001b[49m\u001b[38;5;241;43m=\u001b[39;49m\u001b[43mfs\u001b[49m\u001b[43m)\u001b[49m\n\u001b[0;32m     59\u001b[0m     \u001b[38;5;28;01mreturn\u001b[39;00m piano_roll\u001b[38;5;241m.\u001b[39mT\n",
      "File \u001b[1;32m~\\anaconda3\\lib\\site-packages\\pretty_midi\\pretty_midi.py:815\u001b[0m, in \u001b[0;36mPrettyMIDI.get_piano_roll\u001b[1;34m(self, fs, times, pedal_threshold)\u001b[0m\n\u001b[0;32m    812\u001b[0m     \u001b[38;5;28;01mreturn\u001b[39;00m np\u001b[38;5;241m.\u001b[39mzeros((\u001b[38;5;241m128\u001b[39m, \u001b[38;5;241m0\u001b[39m))\n\u001b[0;32m    814\u001b[0m \u001b[38;5;66;03m# Get piano rolls for each instrument\u001b[39;00m\n\u001b[1;32m--> 815\u001b[0m piano_rolls \u001b[38;5;241m=\u001b[39m [i\u001b[38;5;241m.\u001b[39mget_piano_roll(fs\u001b[38;5;241m=\u001b[39mfs, times\u001b[38;5;241m=\u001b[39mtimes,\n\u001b[0;32m    816\u001b[0m                                 pedal_threshold\u001b[38;5;241m=\u001b[39mpedal_threshold)\n\u001b[0;32m    817\u001b[0m                \u001b[38;5;28;01mfor\u001b[39;00m i \u001b[38;5;129;01min\u001b[39;00m \u001b[38;5;28mself\u001b[39m\u001b[38;5;241m.\u001b[39minstruments]\n\u001b[0;32m    818\u001b[0m \u001b[38;5;66;03m# Allocate piano roll,\u001b[39;00m\n\u001b[0;32m    819\u001b[0m \u001b[38;5;66;03m# number of columns is max of # of columns in all piano rolls\u001b[39;00m\n\u001b[0;32m    820\u001b[0m piano_roll \u001b[38;5;241m=\u001b[39m np\u001b[38;5;241m.\u001b[39mzeros((\u001b[38;5;241m128\u001b[39m, np\u001b[38;5;241m.\u001b[39mmax([p\u001b[38;5;241m.\u001b[39mshape[\u001b[38;5;241m1\u001b[39m] \u001b[38;5;28;01mfor\u001b[39;00m p \u001b[38;5;129;01min\u001b[39;00m piano_rolls])))\n",
      "File \u001b[1;32m~\\anaconda3\\lib\\site-packages\\pretty_midi\\pretty_midi.py:815\u001b[0m, in \u001b[0;36m<listcomp>\u001b[1;34m(.0)\u001b[0m\n\u001b[0;32m    812\u001b[0m     \u001b[38;5;28;01mreturn\u001b[39;00m np\u001b[38;5;241m.\u001b[39mzeros((\u001b[38;5;241m128\u001b[39m, \u001b[38;5;241m0\u001b[39m))\n\u001b[0;32m    814\u001b[0m \u001b[38;5;66;03m# Get piano rolls for each instrument\u001b[39;00m\n\u001b[1;32m--> 815\u001b[0m piano_rolls \u001b[38;5;241m=\u001b[39m [\u001b[43mi\u001b[49m\u001b[38;5;241;43m.\u001b[39;49m\u001b[43mget_piano_roll\u001b[49m\u001b[43m(\u001b[49m\u001b[43mfs\u001b[49m\u001b[38;5;241;43m=\u001b[39;49m\u001b[43mfs\u001b[49m\u001b[43m,\u001b[49m\u001b[43m \u001b[49m\u001b[43mtimes\u001b[49m\u001b[38;5;241;43m=\u001b[39;49m\u001b[43mtimes\u001b[49m\u001b[43m,\u001b[49m\n\u001b[0;32m    816\u001b[0m \u001b[43m                                \u001b[49m\u001b[43mpedal_threshold\u001b[49m\u001b[38;5;241;43m=\u001b[39;49m\u001b[43mpedal_threshold\u001b[49m\u001b[43m)\u001b[49m\n\u001b[0;32m    817\u001b[0m                \u001b[38;5;28;01mfor\u001b[39;00m i \u001b[38;5;129;01min\u001b[39;00m \u001b[38;5;28mself\u001b[39m\u001b[38;5;241m.\u001b[39minstruments]\n\u001b[0;32m    818\u001b[0m \u001b[38;5;66;03m# Allocate piano roll,\u001b[39;00m\n\u001b[0;32m    819\u001b[0m \u001b[38;5;66;03m# number of columns is max of # of columns in all piano rolls\u001b[39;00m\n\u001b[0;32m    820\u001b[0m piano_roll \u001b[38;5;241m=\u001b[39m np\u001b[38;5;241m.\u001b[39mzeros((\u001b[38;5;241m128\u001b[39m, np\u001b[38;5;241m.\u001b[39mmax([p\u001b[38;5;241m.\u001b[39mshape[\u001b[38;5;241m1\u001b[39m] \u001b[38;5;28;01mfor\u001b[39;00m p \u001b[38;5;129;01min\u001b[39;00m piano_rolls])))\n",
      "File \u001b[1;32m~\\anaconda3\\lib\\site-packages\\pretty_midi\\instrument.py:110\u001b[0m, in \u001b[0;36mInstrument.get_piano_roll\u001b[1;34m(self, fs, times, pedal_threshold)\u001b[0m\n\u001b[0;32m    108\u001b[0m     end_time \u001b[38;5;241m=\u001b[39m times[\u001b[38;5;241m-\u001b[39m\u001b[38;5;241m1\u001b[39m]\n\u001b[0;32m    109\u001b[0m \u001b[38;5;66;03m# Allocate a matrix of zeros - we will add in as we go\u001b[39;00m\n\u001b[1;32m--> 110\u001b[0m piano_roll \u001b[38;5;241m=\u001b[39m \u001b[43mnp\u001b[49m\u001b[38;5;241;43m.\u001b[39;49m\u001b[43mzeros\u001b[49m\u001b[43m(\u001b[49m\u001b[43m(\u001b[49m\u001b[38;5;241;43m128\u001b[39;49m\u001b[43m,\u001b[49m\u001b[43m \u001b[49m\u001b[38;5;28;43mint\u001b[39;49m\u001b[43m(\u001b[49m\u001b[43mfs\u001b[49m\u001b[38;5;241;43m*\u001b[39;49m\u001b[43mend_time\u001b[49m\u001b[43m)\u001b[49m\u001b[43m)\u001b[49m\u001b[43m)\u001b[49m\n\u001b[0;32m    111\u001b[0m \u001b[38;5;66;03m# Drum tracks don't have pitch, so return a matrix of zeros\u001b[39;00m\n\u001b[0;32m    112\u001b[0m \u001b[38;5;28;01mif\u001b[39;00m \u001b[38;5;28mself\u001b[39m\u001b[38;5;241m.\u001b[39mis_drum:\n",
      "\u001b[1;31mMemoryError\u001b[0m: Unable to allocate 49.7 MiB for an array with shape (128, 50865) and data type float64"
     ]
    }
   ],
   "source": [
    "import numpy as np\n",
    "import pandas as pd\n",
    "import os\n",
    "import matplotlib.pyplot as plt\n",
    "import seaborn as sns\n",
    "import pretty_midi\n",
    "import tensorflow as tf\n",
    "from tensorflow import keras\n",
    "from tensorflow.keras import layers\n",
    "from sklearn.model_selection import train_test_split\n",
    "\n",
    "# Load MAESTRO Dataset (Example Path)\n",
    "dataset_path = \"maestro-v3.0.0\"\n",
    "midi_files = [os.path.join(dataset_path, f) for f in os.listdir(dataset_path) if f.endswith('.midi') or f.endswith('.mid')]\n",
    "\n",
    "# Display number of MIDI files available\n",
    "print(f\"Total MIDI files: {len(midi_files)}\")\n",
    "# Function to find all MIDI files in the directory and its subdirectories\n",
    "def find_midi_files(dataset_path):\n",
    "    midi_files = []\n",
    "    for root, dirs, files in os.walk(dataset_path):\n",
    "        for file in files:\n",
    "            if file.endswith('.midi') or file.endswith('.mid'):\n",
    "                midi_files.append(os.path.join(root, file))\n",
    "    return midi_files\n",
    "\n",
    "# Load all MIDI files from dataset path and subdirectories\n",
    "midi_files = find_midi_files(dataset_path)\n",
    "\n",
    "# Display the number of MIDI files found\n",
    "print(f\"Total MIDI files: {len(midi_files)}\")\n",
    "\n",
    "\n",
    "# Function to extract MIDI note sequences\n",
    "def midi_to_notes(midi_file):\n",
    "    pm = pretty_midi.PrettyMIDI(midi_file)\n",
    "    notes = []\n",
    "    for instrument in pm.instruments:\n",
    "        for note in instrument.notes:\n",
    "            notes.append([note.start, note.end, note.pitch, note.velocity])\n",
    "    return np.array(notes)\n",
    "\n",
    "# Process all MIDI files\n",
    "all_notes = [midi_to_notes(f) for f in midi_files]\n",
    "all_notes = np.concatenate(all_notes, axis=0)\n",
    "\n",
    "# Exploratory Data Analysis (EDA)\n",
    "plt.figure(figsize=(10, 4))\n",
    "sns.histplot(all_notes[:, 2], bins=50, kde=True, color=\"blue\")\n",
    "plt.xlabel(\"MIDI Pitch\")\n",
    "plt.ylabel(\"Frequency\")\n",
    "plt.title(\"Pitch Distribution in MAESTRO Dataset\")\n",
    "plt.show()\n",
    "\n",
    "# Convert MIDI to piano roll representation\n",
    "def midi_to_piano_roll(midi_file, fs=100):\n",
    "    pm = pretty_midi.PrettyMIDI(midi_file)\n",
    "    piano_roll = pm.get_piano_roll(fs=fs)\n",
    "    return piano_roll.T  # Transpose for proper time-step format\n",
    "\n",
    "piano_rolls = [midi_to_piano_roll(f) for f in midi_files]\n",
    "\n",
    "# Define maximum sequence length and pad sequences\n",
    "max_length = 1000\n",
    "piano_rolls = [x[:max_length] if x.shape[0] > max_length else np.pad(x, ((0, max_length - x.shape[0]), (0, 0))) for x in piano_rolls]\n",
    "\n",
    "# Convert to NumPy array\n",
    "X = np.array(piano_rolls)\n",
    "\n",
    "# Data Splitting (Train, Validation, Test)\n",
    "X_train, X_temp = train_test_split(X, test_size=0.3, random_state=42)\n",
    "X_val, X_test = train_test_split(X_temp, test_size=0.5, random_state=42)\n",
    "\n",
    "# Normalize input data\n",
    "X_train = X_train / 127.0  # MIDI velocities range from 0-127\n",
    "X_val = X_val / 127.0\n",
    "X_test = X_test / 127.0\n",
    "\n",
    "# Define LSTM-based Music Generation Model\n",
    "model = keras.Sequential([\n",
    "    layers.LSTM(128, return_sequences=True, input_shape=(max_length, X_train.shape[2])),\n",
    "    layers.LSTM(64, return_sequences=False),\n",
    "    layers.Dense(X_train.shape[2], activation='sigmoid')\n",
    "])\n",
    "\n",
    "# Compile Model\n",
    "model.compile(optimizer='adam', loss='binary_crossentropy', metrics=['accuracy'])\n",
    "\n",
    "# Train Model\n",
    "history = model.fit(X_train, X_train, epochs=50, validation_data=(X_val, X_val), batch_size=16)\n",
    "\n",
    "# Evaluate Model\n",
    "loss, accuracy = model.evaluate(X_test, X_test)\n",
    "print(f\"Test Loss: {loss:.4f}, Test Accuracy: {accuracy:.4f}\")\n",
    "\n",
    "# Generate Music Sequence\n",
    "generated_sequence = model.predict(X_test[:1])  # Generate for one test sample\n",
    "\n",
    "# Convert generated sequence to MIDI\n",
    "def piano_roll_to_midi(piano_roll, fs=100):\n",
    "    pm = pretty_midi.PrettyMIDI()\n",
    "    instrument = pretty_midi.Instrument(program=0)  # Acoustic Grand Piano\n",
    "    for time, pitch_vector in enumerate(piano_roll):\n",
    "        for pitch, velocity in enumerate(pitch_vector):\n",
    "            if velocity > 0:\n",
    "                note = pretty_midi.Note(\n",
    "                    velocity=int(velocity * 127),\n",
    "                    pitch=pitch,\n",
    "                    start=time / fs,\n",
    "                    end=(time + 1) / fs\n",
    "                )\n",
    "                instrument.notes.append(note)\n",
    "    pm.instruments.append(instrument)\n",
    "    return pm\n",
    "\n",
    "generated_midi = piano_roll_to_midi(generated_sequence[0])\n",
    "generated_midi.write(\"generated_music.mid\")\n",
    "\n",
    "# Plot Training Loss and Accuracy Curves\n",
    "plt.figure(figsize=(10, 4))\n",
    "plt.subplot(1, 2, 1)\n",
    "plt.plot(history.history['loss'], label='Train Loss')\n",
    "plt.plot(history.history['val_loss'], label='Validation Loss')\n",
    "plt.xlabel('Epochs')\n",
    "plt.ylabel('Loss')\n",
    "plt.title('Training & Validation Loss')\n",
    "plt.legend()\n",
    "\n",
    "plt.subplot(1, 2, 2)\n",
    "plt.plot(history.history['accuracy'], label='Train Accuracy')\n",
    "plt.plot(history.history['val_accuracy'], label='Validation Accuracy')\n",
    "plt.xlabel('Epochs')\n",
    "plt.ylabel('Accuracy')\n",
    "plt.title('Training & Validation Accuracy')\n",
    "plt.legend()\n",
    "plt.show()"
   ]
  },
  {
   "cell_type": "code",
   "execution_count": null,
   "id": "5974ae9d",
   "metadata": {},
   "outputs": [],
   "source": []
  }
 ],
 "metadata": {
  "kernelspec": {
   "display_name": "Python 3 (ipykernel)",
   "language": "python",
   "name": "python3"
  },
  "language_info": {
   "codemirror_mode": {
    "name": "ipython",
    "version": 3
   },
   "file_extension": ".py",
   "mimetype": "text/x-python",
   "name": "python",
   "nbconvert_exporter": "python",
   "pygments_lexer": "ipython3",
   "version": "3.10.9"
  }
 },
 "nbformat": 4,
 "nbformat_minor": 5
}
